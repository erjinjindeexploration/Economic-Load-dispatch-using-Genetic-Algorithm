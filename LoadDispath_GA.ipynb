{
 "cells": [
  {
   "cell_type": "code",
   "execution_count": 1,
   "metadata": {
    "collapsed": false
   },
   "outputs": [
   ],
   "source": [
    "import random\n",
    "import numpy as np"
   ]
  },
  {
   "cell_type": "markdown",
   "metadata": {
    "collapsed": false
   },
   "source": [
    "Implementation for 2 Generator"
   ]
  },
  {
   "cell_type": "code",
   "execution_count": 2,
   "metadata": {
    "collapsed": false
   },
   "outputs": [
   ],
   "source": [
    "#Declaration of variables\n",
    "pop_size=20\n",
    "genes_count=20\n",
    "D=675\n",
    "mutation_probability=0.3\n",
    "total_generation=20\n",
    "c1=500\n",
    "c2=100\n",
    "b1=5.1\n",
    "b2=5.9\n",
    "a1=0.004\n",
    "a2=0.006\n",
    "min_1=50\n",
    "min_2=150\n",
    "max_1=350\n",
    "max_2=950"
   ]
  },
  {
   "cell_type": "code",
   "execution_count": 3,
   "metadata": {
    "collapsed": false
   },
   "outputs": [
   ],
   "source": [
    "def population():\n",
    "    return [individual() for x in range (0,pop_size)]\n",
    "\n",
    "def individual():\n",
    "    s=\"\"\n",
    "    for i in range(genes_count):\n",
    "        s+=str(random.randint(0,1))\n",
    "    return s"
   ]
  },
  {
   "cell_type": "code",
   "execution_count": 4,
   "metadata": {
    "collapsed": false
   },
   "outputs": [
   ],
   "source": [
    "def binary_to_decimal(binary):\n",
    "    binary=int(binary)\n",
    "    decimal, i = 0, 0\n",
    "    while(binary != 0): \n",
    "        dec = binary % 10\n",
    "        decimal = decimal + dec * pow(2, i) \n",
    "        binary = binary//10\n",
    "        i += 1\n",
    "    return decimal\n",
    "    "
   ]
  },
  {
   "cell_type": "code",
   "execution_count": 5,
   "metadata": {
    "collapsed": false
   },
   "outputs": [
   ],
   "source": [
    "def decode(s):\n",
    "    p1=min_1+binary_to_decimal(s)*(max_1-min_1)/(pow(2,genes_count)-1)\n",
    "    p2=D-p1\n",
    "    return(p1,p2)"
   ]
  },
  {
   "cell_type": "code",
   "execution_count": 6,
   "metadata": {
    "collapsed": false
   },
   "outputs": [
   ],
   "source": [
    "def fitness(s):\n",
    "    p1,p2=decode(s)\n",
    "    cost_1=c1+b1*p1+a1*p1*p1\n",
    "    cost_2=c2+b2*p2+a2*p2*p2\n",
    "    return cost_1+cost_2"
   ]
  },
  {
   "cell_type": "code",
   "execution_count": 7,
   "metadata": {
    "collapsed": false
   },
   "outputs": [
   ],
   "source": [
    "def crossover(s1,s2):\n",
    "    crossover_point=random.randint(1,genes_count-1)\n",
    "    child1=s1[0:crossover_point]+s2[crossover_point:]\n",
    "    child2=s2[0:crossover_point]+s1[crossover_point:]\n",
    "    return (child1,child2)\n",
    "   "
   ]
  },
  {
   "cell_type": "code",
   "execution_count": 8,
   "metadata": {
    "collapsed": false
   },
   "outputs": [
   ],
   "source": [
    "def mutation (s):\n",
    "    mutation_point=random.randint(genes_count//2,genes_count-2)\n",
    "    \n",
    "    if s[mutation_point]=='0':\n",
    "        s=s[0:mutation_point]+'1'+s[mutation_point+1:]\n",
    "    else:\n",
    "        s=s[0:mutation_point]+'0'+s[mutation_point+1:]\n",
    "    mutation_point=random.randint(0,genes_count-2)\n",
    "    \n",
    "    if s[mutation_point]=='0':\n",
    "        s=s[0:mutation_point]+'1'+s[mutation_point+1:]\n",
    "    else:\n",
    "        s=s[0:mutation_point]+'0'+s[mutation_point+1:]\n",
    "    return s\n"
   ]
  },
  {
   "cell_type": "code",
   "execution_count": 9,
   "metadata": {
    "collapsed": false
   },
   "outputs": [
   ],
   "source": [
    "# def population_evaluation(l):\n",
    "#     for i in range(len(l)):\n",
    "#         print(\"Individual power of G1 and G2 are\",round(decode(l[i])[0],2),\"MW and\",round(decode(l[i])[1],2),\"MW respectively and Total Production Cost is \",round(fitness(l[i]),2),\"$\")\n",
    "    "
   ]
  },
  {
   "cell_type": "code",
   "execution_count": 10,
   "metadata": {
    "collapsed": false
   },
   "outputs": [
   ],
   "source": [
    "def fitness_value(s):\n",
    "    return fitness(s)\n",
    "\n",
    "def next_generation(l):\n",
    "    l.sort(key=fitness_value)\n",
    "    next_gen=[]\n",
    "    while(len(next_gen)<pop_size):\n",
    "        i=random.randint(0,pop_size//2)\n",
    "        j=random.randint(0,pop_size//2)\n",
    "        while(j==i):\n",
    "            j=random.randint(0,pop_size//2)\n",
    "        child1,child2=crossover(l[i],l[j])\n",
    "        mp=random.uniform(0,1)\n",
    "        if(mp<mutation_probability):\n",
    "            child1=mutation(child1)\n",
    "        mp=random.uniform(0,1)\n",
    "        if(mp<mutation_probability):\n",
    "            child2=mutation(child2)\n",
    "        next_gen.append(child1)\n",
    "        next_gen.append(child2)\n",
    "    return next_gen\n",
    "        "
   ]
  },
  {
   "cell_type": "markdown",
   "metadata": {
    "collapsed": false
   },
   "source": [
    "Programmes for Economic Dispatch"
   ]
  },
  {
   "cell_type": "code",
   "execution_count": 11,
   "metadata": {
    "collapsed": false
   },
   "outputs": [
   ],
   "source": [
    "def Cost(ind): \n",
    "    return ind[2]\n",
    "\n",
    "\n",
    "def generation_evaluation(l):\n",
    "    costs=[]\n",
    "    for i in range(len(l)):\n",
    "        ind=[decode(l[i])[0],decode(l[i])[1],fitness(l[i])]\n",
    "        costs.append(ind)\n",
    "    costs.sort(key=Cost)\n",
    "    return costs[0]\n",
    "#     print(\"For P1 = \",costs[0][0],\" , P2 = \",costs[0][1],\" Total Economic cost is: \",costs[0][2])"
   ]
  },
  {
   "cell_type": "code",
   "execution_count": 12,
   "metadata": {
    "collapsed": false
   },
   "outputs": [
   ],
   "source": [
    "def final_evaluation():\n",
    "    l=[]\n",
    "    current_generation=population()\n",
    "    for i in range(total_generation):\n",
    "        gen=generation_evaluation(current_generation)\n",
    "        l.append(gen)\n",
    "        current_generation=next_generation(current_generation)\n",
    "    return l"
   ]
  },
  {
   "cell_type": "code",
   "execution_count": 13,
   "metadata": {
    "collapsed": false
   },
   "outputs": [
   ],
   "source": [
    "Evaluation=final_evaluation()"
   ]
  },
  {
   "cell_type": "code",
   "execution_count": 14,
   "metadata": {
    "collapsed": false
   },
   "outputs": [
   ],
   "source": [
    "# def print_evaluation(Evaluation):\n",
    "#     for i in range(len(Evaluation)):\n",
    "#         print(\"Total Production Cost obtained from Generation\",i+1, \" is\",round(Evaluation[i][2],6), \"$/hr for P1 = \",round(Evaluation[i][0],2),\"MW and P2 = \",round(Evaluation[i][1],2),\"MW\" )\n",
    "# print_evaluation(Evaluation)\n",
    "        "
   ]
  },
  {
   "cell_type": "code",
   "execution_count": 15,
   "metadata": {
    "collapsed": false
   },
   "outputs": [
   ],
   "source": [
    "def production_costs(Evaluation):\n",
    "    l=[]\n",
    "    for i in range(len(Evaluation)):\n",
    "        l.append(Evaluation[i][2])\n",
    "    return l"
   ]
  },
  {
   "cell_type": "code",
   "execution_count": 16,
   "metadata": {
    "collapsed": false
   },
   "outputs": [
   ],
   "source": [
    "def solution(Evaluation):\n",
    "    Evaluation.sort(key=lambda x:x[2])\n",
    "    return Evaluation[0]"
   ]
  },
  {
   "cell_type": "code",
   "execution_count": 17,
   "metadata": {
    "collapsed": false
   },
   "outputs": [
   ],
   "source": [
    "import matplotlib.pyplot as plt"
   ]
  },
  {
   "cell_type": "code",
   "execution_count": 18,
   "metadata": {
    "collapsed": false
   },
   "outputs": [
    {
     "data": {
      "image/png": "[encoded data removed]",
      "text/plain": [
       "<Figure size 432x288 with 1 Axes>"
      ]
     },
     "execution_count": 18,
     "metadata": {
      "image/png": {
       "height": 261,
       "width": 395
      }
     },
     "output_type": "execute_result"
    }
   ],
   "source": [
    "plt.plot(production_costs(Evaluation))\n",
    "plt.xlabel(\"Generations\")\n",
    "plt.ylabel(\"Production cost in $\")\n",
    "plt.show()"
   ]
  },
  {
   "cell_type": "code",
   "execution_count": 88,
   "metadata": {
    "collapsed": false
   },
   "outputs": [
    {
     "name": "stdout",
     "output_type": "stream",
     "text": [
      "Minimum Producion Cost using Genetic Algorithm is 5426.25 $/hr for P1 = 350.0 MW and P2 = 325.0 MW\n"
     ]
    }
   ],
   "source": [
    "print(\"Minimum Producion Cost using Genetic Algorithm is\",round(solution(Evaluation)[2],2),\"$/hr for P1 =\", round(solution(Evaluation)[0],2),\"MW and P2 =\",round(solution(Evaluation)[1],2),\"MW\")"
   ]
  },
  {
   "cell_type": "code",
   "execution_count": 0,
   "metadata": {
    "collapsed": false
   },
   "outputs": [
   ],
   "source": [
   ]
  }
 ],
 "metadata": {
  "kernelspec": {
   "display_name": "Python 3 (system-wide)",
   "language": "python",
   "metadata": {
    "cocalc": {
     "description": "Python 3 programming language",
     "priority": 100,
     "url": "https://www.python.org/"
    }
   },
   "name": "python3"
  },
  "language_info": {
   "codemirror_mode": {
    "name": "ipython",
    "version": 3
   },
   "file_extension": ".py",
   "mimetype": "text/x-python",
   "name": "python",
   "nbconvert_exporter": "python",
   "pygments_lexer": "ipython3",
   "version": "3.6.9"
  }
 },
 "nbformat": 4,
 "nbformat_minor": 0
}